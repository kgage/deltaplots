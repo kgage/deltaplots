{
 "cells": [
  {
   "cell_type": "markdown",
   "metadata": {},
   "source": [
    "In order to determine the correct values of $h$, $\\Omega_m$, and $\\Omega_b$ for nonzero values of $w_a$, the values of $h^2 \\Omega_m$, $h^2 \\Omega_b$, and $D_* \\approx D_A(z=1091)$ are to remain constant. Base values from the flat $\\Lambda$CDM model from [1] are used. In order to avoid unphysical perturbations if $w(z) = -1.0$ for any $z$ when not modelled as a cosmological constant, $w(z)$ choices of $w_0 = -0.99$, $w_a = 0.5$ and $w_0 = -1.01$, $w_a = -0.5$ were made.\n",
    "\n",
    "Refer back to arxiv link:\n",
    "\\[[1](http://arxiv.org/abs/1201.2434v2)]"
   ]
  },
  {
   "cell_type": "code",
   "execution_count": 1,
   "metadata": {
    "collapsed": false
   },
   "outputs": [
    {
     "name": "stdout",
     "output_type": "stream",
     "text": [
      "Populating the interactive namespace from numpy and matplotlib\n"
     ]
    }
   ],
   "source": [
    "%pylab inline\n",
    "import scipy.integrate\n",
    "from astropy import cosmology, units as u, constants as const\n",
    "from classy import Class"
   ]
  },
  {
   "cell_type": "code",
   "execution_count": 143,
   "metadata": {
    "collapsed": true
   },
   "outputs": [],
   "source": [
    "Z_lss = 1091.0\n",
    "cosmo1 = cosmology.FlatLambdaCDM(71.0, 0.222 + 0.045, Ob0 = 0.045)"
   ]
  },
  {
   "cell_type": "code",
   "execution_count": 139,
   "metadata": {
    "collapsed": true
   },
   "outputs": [],
   "source": [
    "def get_class_parameters(cosmology):\n",
    "    \"\"\"\n",
    "    Get CLASS parameters corresponding to an astropy cosmology model.\n",
    "    \"\"\"\n",
    "    class_parameters = {}\n",
    "    try:\n",
    "        class_parameters['h'] = cosmology.h\n",
    "        class_parameters['T_cmb'] = cosmology.Tcmb0.value\n",
    "        class_parameters['Omega_b'] = cosmology.Ob0\n",
    "        # CDM = DM - massive neutrinos.\n",
    "        class_parameters['Omega_cdm'] = cosmology.Om0 - cosmology.Ob0\n",
    "        class_parameters['Omega_k'] = cosmology.Ok0\n",
    "        # Dark energy sector. CLASS will calculate whichever of\n",
    "        # Omega_Lambda/fld/scf we do not provide.\n",
    "        class_parameters['Omega_scf'] = 0.\n",
    "        try:\n",
    "            # Only subclasses of wCDM have the w0 attribute.\n",
    "            class_parameters['w0_fld'] = cosmology.w0\n",
    "            class_parameters['wa_fld'] = cosmology.wa\n",
    "            class_parameters['Omega_Lambda'] = 0.\n",
    "        except AttributeError:\n",
    "            class_parameters['Omega_fld'] = 0.\n",
    "        # Neutrino sector.\n",
    "        if cosmology.has_massive_nu:\n",
    "            m_nu = cosmology.m_nu\n",
    "            try:\n",
    "                num_massive = len(m_nu)\n",
    "            except TypeError:\n",
    "                num_massive = 3\n",
    "                m_nu = [num_massive * m_nu]\n",
    "            if num_massive > 3:\n",
    "                raise RuntimeError(\n",
    "                    'Cannot calculate cosmology with >3 massive neutrinos.')\n",
    "            m_ncdm = []\n",
    "            for mass in m_nu:\n",
    "                if mass > 0:\n",
    "                    m_ncdm.append(repr(mass.value))\n",
    "                else:\n",
    "                    num_massive -= 1\n",
    "            if num_massive > 0:\n",
    "                class_parameters['m_ncdm'] = ','.join(m_ncdm)\n",
    "        else:\n",
    "            num_massive = 0\n",
    "        class_parameters['N_ncdm'] = num_massive\n",
    "        num_light = 3 - num_massive\n",
    "        class_parameters['N_ur'] = (3.00641 - num_massive +\n",
    "            num_light*(cosmology.Neff - 3.00641)/3.)\n",
    "    except AttributeError:\n",
    "        raise ValueError('Cosmology is missing required attributes.')\n",
    "    return class_parameters"
   ]
  },
  {
   "cell_type": "code",
   "execution_count": 96,
   "metadata": {
    "collapsed": false
   },
   "outputs": [],
   "source": [
    "cosmo = Class()"
   ]
  },
  {
   "cell_type": "code",
   "execution_count": 98,
   "metadata": {
    "collapsed": true
   },
   "outputs": [],
   "source": [
    "cosmo.struct_cleanup()\n",
    "cosmo.empty()"
   ]
  },
  {
   "cell_type": "code",
   "execution_count": 144,
   "metadata": {
    "collapsed": false
   },
   "outputs": [
    {
     "name": "stdout",
     "output_type": "stream",
     "text": [
      "Base numbers:\n",
      "0.0226845\n",
      "0.1345947\n",
      "12.8764593039\n"
     ]
    }
   ],
   "source": [
    "print('Base numbers:')\n",
    "cosmo.set(get_class_parameters(cosmo1))\n",
    "cosmo.compute()\n",
    "print(cosmo.omega_b())\n",
    "print(cosmo.Omega_m() * cosmo.h() ** 2)\n",
    "dist = cosmo.angular_distance(Z_lss)\n",
    "print(dist)\n",
    "cosmo.struct_cleanup()\n",
    "cosmo.empty()"
   ]
  },
  {
   "cell_type": "code",
   "execution_count": 132,
   "metadata": {
    "collapsed": false
   },
   "outputs": [],
   "source": [
    "h = np.linspace(0.6,0.8,num=201)\n",
    "b = np.around(0.0226845 * h ** -2, decimals = 3)\n",
    "m = np.around(0.1345947 * h ** -2, decimals = 3)\n",
    "c = m - b"
   ]
  },
  {
   "cell_type": "code",
   "execution_count": 130,
   "metadata": {
    "collapsed": true
   },
   "outputs": [],
   "source": [
    "def params_pos():\n",
    "    test = {}\n",
    "    test['N_ncdm'] = 0.0\n",
    "    test['N_ur'] = 3.04\n",
    "    test['Omega_Lambda'] = 0.0\n",
    "    test['Omega_scf'] = 0.0\n",
    "    test['Omega_k'] = 0.0\n",
    "    test['w0_fld'] = -1.0 + 0.01\n",
    "    test['wa_fld'] = 0.5\n",
    "    test['T_cmb'] = 2.725\n",
    "    return test\n",
    "def params_neg():\n",
    "    test = {}\n",
    "    test['N_ncdm'] = 0.0\n",
    "    test['N_ur'] = 3.04\n",
    "    test['Omega_Lambda'] = 0.0\n",
    "    test['Omega_scf'] = 0.0\n",
    "    test['Omega_k'] = 0.0\n",
    "    test['w0_fld'] = -1.0 - 0.01\n",
    "    test['wa_fld'] = -0.5\n",
    "    test['T_cmb'] = 2.725\n",
    "    return test"
   ]
  },
  {
   "cell_type": "code",
   "execution_count": 145,
   "metadata": {
    "collapsed": false
   },
   "outputs": [
    {
     "name": "stdout",
     "output_type": "stream",
     "text": [
      "w0 = -0.99, wa = 0.5:\n",
      "h = 0.704, Om = 0.272, Ob = 0.046\n"
     ]
    }
   ],
   "source": [
    "trial = []\n",
    "print('w0 = -0.99, wa = 0.5:')\n",
    "for i in range(201):\n",
    "    test = params_pos()\n",
    "    test['h'] = h[i]\n",
    "    test['Omega_b'] = b[i]\n",
    "    test['Omega_cdm'] = c[i]\n",
    "    cosmo.set(test)\n",
    "    cosmo.compute()\n",
    "    trial.append(np.abs(dist - cosmo.angular_distance(Z_lss)))\n",
    "    cosmo.struct_cleanup()\n",
    "    cosmo.empty()\n",
    "j = np.argmin(trial)\n",
    "print(\"h = {}, Om = {}, Ob = {}\".format(h[j],m[j],b[j]))"
   ]
  },
  {
   "cell_type": "code",
   "execution_count": 146,
   "metadata": {
    "collapsed": false
   },
   "outputs": [
    {
     "name": "stdout",
     "output_type": "stream",
     "text": [
      "w0 = -1.01, wa = -0.5:\n",
      "h = 0.715, Om = 0.263, Ob = 0.044\n"
     ]
    }
   ],
   "source": [
    "trial = []\n",
    "print('w0 = -1.01, wa = -0.5:')\n",
    "for i in range(201):\n",
    "    test = params_neg()\n",
    "    test['h'] = h[i]\n",
    "    test['Omega_b'] = b[i]\n",
    "    test['Omega_cdm'] = c[i]\n",
    "    cosmo.set(test)\n",
    "    cosmo.compute()\n",
    "    trial.append(np.abs(dist - cosmo.angular_distance(Z_lss)))\n",
    "    cosmo.struct_cleanup()\n",
    "    cosmo.empty()\n",
    "k = np.argmin(trial)\n",
    "print(\"h = {}, Om = {}, Ob = {}\".format(h[k],m[k],b[k]))"
   ]
  }
 ],
 "metadata": {
  "kernelspec": {
   "display_name": "Python 2",
   "language": "python",
   "name": "python2"
  },
  "language_info": {
   "codemirror_mode": {
    "name": "ipython",
    "version": 2
   },
   "file_extension": ".py",
   "mimetype": "text/x-python",
   "name": "python",
   "nbconvert_exporter": "python",
   "pygments_lexer": "ipython2",
   "version": "2.7.10"
  }
 },
 "nbformat": 4,
 "nbformat_minor": 0
}
