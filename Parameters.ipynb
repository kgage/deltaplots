{
 "cells": [
  {
   "cell_type": "markdown",
   "metadata": {},
   "source": [
    "<h1>Parameter Setting</h1>\n",
    "\n",
    "Generation of test cosmologies with varied parameters requires criteria to be set for determining what parameter combinations are available. This notebook will specifically be looking for combinations of $w_0$, $w_a$, $h$, $\\Omega_b$, and $\\Omega_m$ (or equivalently $\\Omega_{cdm}$ for a universe with only baryonic and cold dark matter contributions to $\\Omega_m$) for a flat universe with a nonzero $w_a$ component in the equation-of-state parameter for dark energy.\n",
    "\n",
    "To avoid unphysical perturbations from a fluid model where $w(z) = -1$ at any redshift, the constant component of $w$ is taken to be\n",
    "$$w_0 = -1 + \\epsilon,$$\n",
    "where the sign of $\\epsilon$ is the sign of $w_a$. The magnitude of $\\epsilon$ is taken to keep the effects of a nonzero $\\epsilon$ small compared to the effects of $w_a$. The magnitude of $w_a$ is taken to induce a deviation from a flat cosmological constant model on the same order as a model with $w(z) = -1 \\pm 0.1$.\n",
    "\n",
    "Determination of values for potential $\\Omega_m$, and $\\Omega_b$ values are made by maintaining constant values of $h^2 \\Omega_m$ and $h^2 \\Omega_b$ for potential $h$ values \\[1]. A single set of $h$, $\\Omega_b$, and $\\Omega_m$ is chosen by holding the distance of the last scattering constant. The redshift at last scattering is aprroximated as $z_* = 1091$, and baseline values for $h^2 \\Omega_m$, $h^2 \\Omega_b$, and $D_*$ are taken from a flat model with a cosmological constant.\n",
    "\n",
    "\\[[1](http://arxiv.org/abs/1201.2434v2)] Weinberg, D., Mortonson, M., Eisenstein, D., Hirata, C., Riess, A., and Rozo, E. (2013) \"Observational Probes of Cosmic Acceleration.\""
   ]
  },
  {
   "cell_type": "code",
   "execution_count": 1,
   "metadata": {
    "collapsed": false
   },
   "outputs": [
    {
     "name": "stdout",
     "output_type": "stream",
     "text": [
      "Populating the interactive namespace from numpy and matplotlib\n"
     ]
    }
   ],
   "source": [
    "%pylab inline\n",
    "import scipy.integrate\n",
    "from astropy import cosmology, units as u, constants as const\n",
    "from classy import Class"
   ]
  },
  {
   "cell_type": "code",
   "execution_count": 2,
   "metadata": {
    "collapsed": true
   },
   "outputs": [],
   "source": [
    "Z_lss = 1091.0\n",
    "cosmo1 = cosmology.FlatLambdaCDM(71.0, 0.222 + 0.045, Ob0 = 0.045)"
   ]
  },
  {
   "cell_type": "code",
   "execution_count": 3,
   "metadata": {
    "collapsed": true
   },
   "outputs": [],
   "source": [
    "def get_class_parameters(cosmology):\n",
    "    \"\"\"\n",
    "    Get CLASS parameters corresponding to an astropy cosmology model.\n",
    "    \"\"\"\n",
    "    class_parameters = {}\n",
    "    try:\n",
    "        class_parameters['h'] = cosmology.h\n",
    "        class_parameters['T_cmb'] = cosmology.Tcmb0.value\n",
    "        class_parameters['Omega_b'] = cosmology.Ob0\n",
    "        # CDM = DM - massive neutrinos.\n",
    "        class_parameters['Omega_cdm'] = cosmology.Om0 - cosmology.Ob0\n",
    "        class_parameters['Omega_k'] = cosmology.Ok0\n",
    "        # Dark energy sector. CLASS will calculate whichever of\n",
    "        # Omega_Lambda/fld/scf we do not provide.\n",
    "        class_parameters['Omega_scf'] = 0.\n",
    "        try:\n",
    "            # Only subclasses of wCDM have the w0 attribute.\n",
    "            class_parameters['w0_fld'] = cosmology.w0\n",
    "            class_parameters['wa_fld'] = cosmology.wa\n",
    "            class_parameters['Omega_Lambda'] = 0.\n",
    "        except AttributeError:\n",
    "            class_parameters['Omega_fld'] = 0.\n",
    "        # Neutrino sector.\n",
    "        if cosmology.has_massive_nu:\n",
    "            m_nu = cosmology.m_nu\n",
    "            try:\n",
    "                num_massive = len(m_nu)\n",
    "            except TypeError:\n",
    "                num_massive = 3\n",
    "                m_nu = [num_massive * m_nu]\n",
    "            if num_massive > 3:\n",
    "                raise RuntimeError(\n",
    "                    'Cannot calculate cosmology with >3 massive neutrinos.')\n",
    "            m_ncdm = []\n",
    "            for mass in m_nu:\n",
    "                if mass > 0:\n",
    "                    m_ncdm.append(repr(mass.value))\n",
    "                else:\n",
    "                    num_massive -= 1\n",
    "            if num_massive > 0:\n",
    "                class_parameters['m_ncdm'] = ','.join(m_ncdm)\n",
    "        else:\n",
    "            num_massive = 0\n",
    "        class_parameters['N_ncdm'] = num_massive\n",
    "        num_light = 3 - num_massive\n",
    "        class_parameters['N_ur'] = (3.00641 - num_massive +\n",
    "            num_light*(cosmology.Neff - 3.00641)/3.)\n",
    "    except AttributeError:\n",
    "        raise ValueError('Cosmology is missing required attributes.')\n",
    "    return class_parameters"
   ]
  },
  {
   "cell_type": "code",
   "execution_count": 4,
   "metadata": {
    "collapsed": false
   },
   "outputs": [],
   "source": [
    "cosmo = Class()"
   ]
  },
  {
   "cell_type": "code",
   "execution_count": 5,
   "metadata": {
    "collapsed": true
   },
   "outputs": [],
   "source": [
    "cosmo.struct_cleanup()\n",
    "cosmo.empty()"
   ]
  },
  {
   "cell_type": "markdown",
   "metadata": {},
   "source": [
    "Here we find the values to maintain for $h^2 \\Omega_b$, $h^2 \\Omega_m$, and $D_*$."
   ]
  },
  {
   "cell_type": "code",
   "execution_count": 5,
   "metadata": {
    "collapsed": false
   },
   "outputs": [
    {
     "name": "stdout",
     "output_type": "stream",
     "text": [
      "Base numbers:\n",
      "0.0226845\n",
      "0.1345947\n",
      "12.8764593039\n"
     ]
    }
   ],
   "source": [
    "print('Base numbers:')\n",
    "cosmo.set(get_class_parameters(cosmo1))\n",
    "cosmo.compute()\n",
    "h2b = cosmo.omega_b()\n",
    "h2m = cosmo.Omega_m() * cosmo.h() ** 2\n",
    "dist = cosmo.angular_distance(Z_lss)\n",
    "cosmo.struct_cleanup()\n",
    "cosmo.empty()\n",
    "print(h2b)\n",
    "print(h2m)\n",
    "print(dist)"
   ]
  },
  {
   "cell_type": "markdown",
   "metadata": {},
   "source": [
    "Values of $h$ between $0.6$ and $0.8$ were tested along with values of $\\Omega_b$ and $Omega_m$ rounded to the nearest thousandth."
   ]
  },
  {
   "cell_type": "code",
   "execution_count": 6,
   "metadata": {
    "collapsed": false
   },
   "outputs": [],
   "source": [
    "h = np.linspace(0.6,0.8,num=201)\n",
    "b = np.around(h2b * h ** -2, decimals = 3)\n",
    "m = np.around(h2m * h ** -2, decimals = 3)\n",
    "c = m - b"
   ]
  },
  {
   "cell_type": "code",
   "execution_count": 7,
   "metadata": {
    "collapsed": true
   },
   "outputs": [],
   "source": [
    "def params_pos():\n",
    "    test = {}\n",
    "    test['N_ncdm'] = 0.0\n",
    "    test['N_ur'] = 3.04\n",
    "    test['Omega_Lambda'] = 0.0\n",
    "    test['Omega_scf'] = 0.0\n",
    "    test['Omega_k'] = 0.0\n",
    "    test['w0_fld'] = -1.0 + 0.01\n",
    "    test['wa_fld'] = 0.5\n",
    "    test['T_cmb'] = 2.725\n",
    "    return test\n",
    "def params_neg():\n",
    "    test = {}\n",
    "    test['N_ncdm'] = 0.0\n",
    "    test['N_ur'] = 3.04\n",
    "    test['Omega_Lambda'] = 0.0\n",
    "    test['Omega_scf'] = 0.0\n",
    "    test['Omega_k'] = 0.0\n",
    "    test['w0_fld'] = -1.0 - 0.01\n",
    "    test['wa_fld'] = -0.5\n",
    "    test['T_cmb'] = 2.725\n",
    "    return test"
   ]
  },
  {
   "cell_type": "markdown",
   "metadata": {},
   "source": [
    "Values of $w_0 = -1.0 \\pm 0.01$ and $w_a = \\pm 0.5$ were chosen to keep the effect of $\\epsilon$ small compared to $w_a$."
   ]
  },
  {
   "cell_type": "code",
   "execution_count": 8,
   "metadata": {
    "collapsed": false
   },
   "outputs": [
    {
     "name": "stdout",
     "output_type": "stream",
     "text": [
      "w0 = -0.99, wa = 0.5:\n",
      "h = 0.65, Om = 0.319, Ob = 0.054\n"
     ]
    }
   ],
   "source": [
    "trial = []\n",
    "print('w0 = -0.99, wa = 0.5:')\n",
    "for i in range(201):\n",
    "    test = params_pos()\n",
    "    test['h'] = h[i]\n",
    "    test['Omega_b'] = b[i]\n",
    "    test['Omega_cdm'] = c[i]\n",
    "    cosmo.set(test)\n",
    "    cosmo.compute()\n",
    "    trial.append(np.abs(dist - cosmo.angular_distance(Z_lss)))\n",
    "    cosmo.struct_cleanup()\n",
    "    cosmo.empty()\n",
    "j = np.argmin(trial)\n",
    "print(\"h = {}, Om = {}, Ob = {}\".format(h[j],m[j],b[j]))"
   ]
  },
  {
   "cell_type": "code",
   "execution_count": 9,
   "metadata": {
    "collapsed": false
   },
   "outputs": [
    {
     "name": "stdout",
     "output_type": "stream",
     "text": [
      "w0 = -1.01, wa = -0.5:\n",
      "h = 0.76, Om = 0.233, Ob = 0.039\n"
     ]
    }
   ],
   "source": [
    "trial = []\n",
    "print('w0 = -1.01, wa = -0.5:')\n",
    "for i in range(201):\n",
    "    test = params_neg()\n",
    "    test['h'] = h[i]\n",
    "    test['Omega_b'] = b[i]\n",
    "    test['Omega_cdm'] = c[i]\n",
    "    cosmo.set(test)\n",
    "    cosmo.compute()\n",
    "    trial.append(np.abs(dist - cosmo.angular_distance(Z_lss)))\n",
    "    cosmo.struct_cleanup()\n",
    "    cosmo.empty()\n",
    "k = np.argmin(trial)\n",
    "print(\"h = {}, Om = {}, Ob = {}\".format(h[k],m[k],b[k]))"
   ]
  },
  {
   "cell_type": "markdown",
   "metadata": {
    "collapsed": false
   },
   "source": [
    "This test returns optimal parameter values for these two $w(z)$ cosmologies:\n",
    " - $w(z) = -0.99 + 0.5 \\frac{z}{1+z}$:\n",
    "  - $h = 0.650$\n",
    "  - $\\Omega_m = 0.319$\n",
    "  - $\\Omega_b = 0.054$\n",
    " - $w(z) = -1.01 - 0.5 \\frac{z}{1+z}$:\n",
    "  - $h = 0.760$\n",
    "  - $\\Omega_m = 0.233$\n",
    "  - $\\Omega_b = 0.039$"
   ]
  }
 ],
 "metadata": {
  "kernelspec": {
   "display_name": "Python 2",
   "language": "python",
   "name": "python2"
  },
  "language_info": {
   "codemirror_mode": {
    "name": "ipython",
    "version": 2
   },
   "file_extension": ".py",
   "mimetype": "text/x-python",
   "name": "python",
   "nbconvert_exporter": "python",
   "pygments_lexer": "ipython2",
   "version": "2.7.10"
  }
 },
 "nbformat": 4,
 "nbformat_minor": 0
}
